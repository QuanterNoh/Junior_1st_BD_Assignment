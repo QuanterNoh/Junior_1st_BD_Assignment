{
 "cells": [
  {
   "attachments": {},
   "cell_type": "markdown",
   "metadata": {},
   "source": [
    "## Python 에서 GC 사용법"
   ]
  },
  {
   "attachments": {},
   "cell_type": "markdown",
   "metadata": {},
   "source": [
    "### gc 모듈 불러오기"
   ]
  },
  {
   "cell_type": "code",
   "execution_count": 2,
   "metadata": {},
   "outputs": [],
   "source": [
    "import gc"
   ]
  },
  {
   "attachments": {},
   "cell_type": "markdown",
   "metadata": {},
   "source": [
    "### get_threshold() 메소드\n",
    "GC에 구성된 세대(generation)별 임계값(threshold) 확인"
   ]
  },
  {
   "cell_type": "code",
   "execution_count": 3,
   "metadata": {},
   "outputs": [
    {
     "data": {
      "text/plain": [
       "(700, 10, 10)"
      ]
     },
     "execution_count": 3,
     "metadata": {},
     "output_type": "execute_result"
    }
   ],
   "source": [
    "gc.get_threshold()"
   ]
  },
  {
   "attachments": {},
   "cell_type": "markdown",
   "metadata": {},
   "source": [
    "### get_count() 메소드\n",
    "0 ~ 2 세대에 속한 객체 수 확인"
   ]
  },
  {
   "cell_type": "code",
   "execution_count": 4,
   "metadata": {},
   "outputs": [
    {
     "data": {
      "text/plain": [
       "(444, 0, 11)"
      ]
     },
     "execution_count": 4,
     "metadata": {},
     "output_type": "execute_result"
    }
   ],
   "source": [
    "gc.get_count()"
   ]
  },
  {
   "attachments": {},
   "cell_type": "markdown",
   "metadata": {},
   "source": [
    "### collect() 메소드\n",
    "수동으로 GC 프로세스를 실행하여 세대별 객체 정리"
   ]
  },
  {
   "cell_type": "code",
   "execution_count": 5,
   "metadata": {},
   "outputs": [
    {
     "data": {
      "text/plain": [
       "254"
      ]
     },
     "execution_count": 5,
     "metadata": {},
     "output_type": "execute_result"
    }
   ],
   "source": [
    "gc.collect()"
   ]
  },
  {
   "cell_type": "code",
   "execution_count": 6,
   "metadata": {},
   "outputs": [
    {
     "data": {
      "text/plain": [
       "(207, 0, 0)"
      ]
     },
     "execution_count": 6,
     "metadata": {},
     "output_type": "execute_result"
    }
   ],
   "source": [
    "gc.get_count()"
   ]
  },
  {
   "attachments": {},
   "cell_type": "markdown",
   "metadata": {},
   "source": [
    "### set_threshold() 메소드\n",
    "GC에 구성된 세대(generation)별 임계값(threshold) 조정"
   ]
  },
  {
   "cell_type": "code",
   "execution_count": 10,
   "metadata": {},
   "outputs": [],
   "source": [
    "gc.set_threshold(1000, 15, 15)"
   ]
  },
  {
   "cell_type": "code",
   "execution_count": 11,
   "metadata": {},
   "outputs": [
    {
     "data": {
      "text/plain": [
       "(1000, 15, 15)"
      ]
     },
     "execution_count": 11,
     "metadata": {},
     "output_type": "execute_result"
    }
   ],
   "source": [
    "gc.get_threshold() # (700, 10, 10) -> (1000, 15, 15)"
   ]
  },
  {
   "attachments": {},
   "cell_type": "markdown",
   "metadata": {},
   "source": [
    "## GC 사용시에도 메모리 누수가 발생하는 경우"
   ]
  },
  {
   "attachments": {},
   "cell_type": "markdown",
   "metadata": {},
   "source": [
    "### 1. 순환참조\n",
    "특정 객체가 서로를 참조(순환참조)하고 있다면 Reference counting 방식으로는 객체를 메모리에서 해제할 수 없다."
   ]
  },
  {
   "cell_type": "code",
   "execution_count": 21,
   "metadata": {},
   "outputs": [
    {
     "name": "stdout",
     "output_type": "stream",
     "text": [
      "3\n"
     ]
    },
    {
     "ename": "NameError",
     "evalue": "name 'temp' is not defined",
     "output_type": "error",
     "traceback": [
      "\u001b[1;31m---------------------------------------------------------------------------\u001b[0m",
      "\u001b[1;31mNameError\u001b[0m                                 Traceback (most recent call last)",
      "\u001b[1;32m~\\AppData\\Local\\Temp\\ipykernel_18004\\173671321.py\u001b[0m in \u001b[0;36m<module>\u001b[1;34m\u001b[0m\n\u001b[0;32m      6\u001b[0m \u001b[1;33m\u001b[0m\u001b[0m\n\u001b[0;32m      7\u001b[0m \u001b[1;32mdel\u001b[0m \u001b[0mtemp\u001b[0m\u001b[1;33m\u001b[0m\u001b[1;33m\u001b[0m\u001b[0m\n\u001b[1;32m----> 8\u001b[1;33m \u001b[0mprint\u001b[0m\u001b[1;33m(\u001b[0m\u001b[0msys\u001b[0m\u001b[1;33m.\u001b[0m\u001b[0mgetrefcount\u001b[0m\u001b[1;33m(\u001b[0m\u001b[0mtemp\u001b[0m\u001b[1;33m)\u001b[0m\u001b[1;33m)\u001b[0m\u001b[1;33m\u001b[0m\u001b[1;33m\u001b[0m\u001b[0m\n\u001b[0m",
      "\u001b[1;31mNameError\u001b[0m: name 'temp' is not defined"
     ]
    }
   ],
   "source": [
    "import sys\n",
    "\n",
    "temp = []\n",
    "temp.append(temp)\n",
    "print(sys.getrefcount(temp))\n",
    "\n",
    "del temp\n",
    "print(sys.getrefcount(temp))"
   ]
  },
  {
   "attachments": {},
   "cell_type": "markdown",
   "metadata": {},
   "source": [
    "### 2. 미사용 객체에 대한 트래킹 미작동으로 메모리가 해제되지 않은 경우\n",
    "MyClass 클래스에서 객체를 생성할 때마다, 새롭게 메모리에 할당되며, 해당 객체의 참조를 리스트가 가지고 있으므로, \n",
    "\n",
    "리스트가 메인 스코프에서 삭제되기 전까지는 GC의 대상이 될 수 없으며, 메모리 누수가 발생할 수 있습니다.\n",
    "\n",
    "만약, 루프 반복이 많아질 경우 메모리 사용량이 크게 증가하여 다른 프로세스에 영향을 줄 수 있습니다."
   ]
  },
  {
   "cell_type": "code",
   "execution_count": 36,
   "metadata": {},
   "outputs": [
    {
     "data": {
      "text/plain": [
       "[<__main__.MyClass at 0x2cc9e1988d0>,\n",
       " <__main__.MyClass at 0x2cc9e198828>,\n",
       " <__main__.MyClass at 0x2cc9e1986d8>,\n",
       " <__main__.MyClass at 0x2cc9e198a90>,\n",
       " <__main__.MyClass at 0x2cc9e198ba8>,\n",
       " <__main__.MyClass at 0x2cc9e1983c8>,\n",
       " <__main__.MyClass at 0x2cc9e198710>,\n",
       " <__main__.MyClass at 0x2cc9e1987b8>,\n",
       " <__main__.MyClass at 0x2cc9e198cc0>,\n",
       " <__main__.MyClass at 0x2cc9e1982e8>]"
      ]
     },
     "execution_count": 36,
     "metadata": {},
     "output_type": "execute_result"
    }
   ],
   "source": [
    "class MyClass:\n",
    "   def __init__(self):\n",
    "       self.x = 42\n",
    "\n",
    "def create_instance():\n",
    "    instance = MyClass()\n",
    "    return instance\n",
    "\n",
    "def main():\n",
    "    instances = []\n",
    "    for _ in range(10):\n",
    "        instances.append(create_instance())\n",
    "    return instances\n",
    "\n",
    "main()"
   ]
  },
  {
   "attachments": {},
   "cell_type": "markdown",
   "metadata": {},
   "source": [
    "### 객체를 사용한 이후에 메모리에서 직접 삭제하여 해결\n",
    "사용 후 필요 없어진 객체를 리스트 내에서 수동으로 삭제하여 불필요하게 메모리를 점유하는 객체를 해제했습니다."
   ]
  },
  {
   "cell_type": "code",
   "execution_count": 40,
   "metadata": {},
   "outputs": [],
   "source": [
    "class MyClass:\n",
    "   def __init__(self):\n",
    "       self.x = 42\n",
    "\n",
    "def main():\n",
    "    instances = []\n",
    "    for _ in range(10):\n",
    "        instances.append(create_instance())\n",
    "\n",
    "    # using...\n",
    "\n",
    "    for instance in instances:\n",
    "        del instance\n",
    "\n",
    "    del instances\n",
    "\n",
    "main()"
   ]
  },
  {
   "attachments": {},
   "cell_type": "markdown",
   "metadata": {},
   "source": [
    "### 제너레이터 함수 사용으로 객체의 생성을 제어하여 해결\n",
    "get_instance() 함수는 제너레이터(generator) 함수이므로, yield 로 반환한 객체들은 계속해서 생성 후에 사라지게 됩니다.\n",
    "\n",
    "제너레이터 객체를 통해 생성된 객체는 다음 값 생성 시점에 대해 더 이상 유효하지 않기 때문에 즉각적으로 GC 대상이 되며, 따라서 메모리 누수가 발생하지 않습니다."
   ]
  },
  {
   "cell_type": "code",
   "execution_count": 38,
   "metadata": {},
   "outputs": [
    {
     "data": {
      "text/plain": [
       "[<__main__.MyClass at 0x2cc9e118f98>,\n",
       " <__main__.MyClass at 0x2cc9e1a64e0>,\n",
       " <__main__.MyClass at 0x2cc9e1a64a8>,\n",
       " <__main__.MyClass at 0x2cc9e1a6470>,\n",
       " <__main__.MyClass at 0x2cc9e1a6518>,\n",
       " <__main__.MyClass at 0x2cc9e1a63c8>,\n",
       " <__main__.MyClass at 0x2cc9e1a6390>,\n",
       " <__main__.MyClass at 0x2cc9e1a6400>,\n",
       " <__main__.MyClass at 0x2cc9e1a62e8>,\n",
       " <__main__.MyClass at 0x2cc9e1a6320>]"
      ]
     },
     "execution_count": 38,
     "metadata": {},
     "output_type": "execute_result"
    }
   ],
   "source": [
    "class MyClass:\n",
    "    def __init__(self):\n",
    "        self.x = 42\n",
    "\n",
    "def get_instance():\n",
    "    while True:\n",
    "        yield MyClass()\n",
    "\n",
    "def main():\n",
    "    instances = []\n",
    "    generator = get_instance()\n",
    "    for _ in range(10):\n",
    "        instances.append(next(generator))\n",
    "    return instances\n",
    "\n",
    "main()"
   ]
  }
 ],
 "metadata": {
  "kernelspec": {
   "display_name": "ds",
   "language": "python",
   "name": "python3"
  },
  "language_info": {
   "codemirror_mode": {
    "name": "ipython",
    "version": 3
   },
   "file_extension": ".py",
   "mimetype": "text/x-python",
   "name": "python",
   "nbconvert_exporter": "python",
   "pygments_lexer": "ipython3",
   "version": "3.7.2"
  },
  "orig_nbformat": 4
 },
 "nbformat": 4,
 "nbformat_minor": 2
}
